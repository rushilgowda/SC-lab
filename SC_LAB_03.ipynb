{
  "nbformat": 4,
  "nbformat_minor": 0,
  "metadata": {
    "colab": {
      "provenance": []
    },
    "kernelspec": {
      "name": "python3",
      "display_name": "Python 3"
    },
    "language_info": {
      "name": "python"
    }
  },
  "cells": [
    {
      "cell_type": "code",
      "execution_count": 1,
      "metadata": {
        "colab": {
          "base_uri": "https://localhost:8080/"
        },
        "id": "0N3ACLlWtSYG",
        "outputId": "994ad3ea-e82d-477d-8f9e-5f3d74da044d"
      },
      "outputs": [
        {
          "output_type": "stream",
          "name": "stdout",
          "text": [
            "Final Population: [31, 29, 6, 20]\n"
          ]
        }
      ],
      "source": [
        "import random\n",
        "def fitness(x):\n",
        "    return x**2\n",
        "population = [random.randint(0, 31) for _ in range(4)]\n",
        "for _ in range(5):\n",
        "    fitness_vals = [fitness(x) for x in population]\n",
        "    parents = sorted(population, key=fitness, reverse=True)[:2]\n",
        "    offspring = [random.randint(0, 31) for _ in range(2)]\n",
        "    population = parents + offspring\n",
        "print(\"Final Population:\", population)"
      ]
    }
  ]
}