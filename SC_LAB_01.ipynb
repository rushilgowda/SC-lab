{
  "nbformat": 4,
  "nbformat_minor": 0,
  "metadata": {
    "colab": {
      "provenance": []
    },
    "kernelspec": {
      "name": "python3",
      "display_name": "Python 3"
    },
    "language_info": {
      "name": "python"
    }
  },
  "cells": [
    {
      "cell_type": "code",
      "execution_count": 1,
      "metadata": {
        "colab": {
          "base_uri": "https://localhost:8080/"
        },
        "id": "fKWUYJfWs1Qu",
        "outputId": "88422b4f-7c5c-4450-8f19-3267652e4336"
      },
      "outputs": [
        {
          "output_type": "stream",
          "name": "stdout",
          "text": [
            "Max-min Composition result: [0.5 0.9 0.5]\n"
          ]
        }
      ],
      "source": [
        "import numpy as np\n",
        "\n",
        "A = np.array([0.2, 0.5, 0.9])\n",
        "R = np.array([\n",
        "    [0.3, 0.7, 0.5],\n",
        "    [0.8, 0.4, 0.6],\n",
        "    [0.1, 0.9, 0.3]\n",
        "])\n",
        "\n",
        "result = np.max(np.minimum(A[:, np.newaxis], R), axis=0)\n",
        "\n",
        "print(\"Max-min Composition result:\", result)"
      ]
    }
  ]
}