{
  "nbformat": 4,
  "nbformat_minor": 0,
  "metadata": {
    "colab": {
      "provenance": []
    },
    "kernelspec": {
      "name": "python3",
      "display_name": "Python 3"
    },
    "language_info": {
      "name": "python"
    }
  },
  "cells": [
    {
      "cell_type": "code",
      "execution_count": 1,
      "metadata": {
        "colab": {
          "base_uri": "https://localhost:8080/"
        },
        "id": "iBHtR_JztRp4",
        "outputId": "aa072179-8540-42b3-e956-0fe33b13acbd"
      },
      "outputs": [
        {
          "output_type": "stream",
          "name": "stdout",
          "text": [
            "Sorted array: [3, 9, 10, 27, 38, 43, 82]\n"
          ]
        }
      ],
      "source": [
        "def merge_sort(arr):\n",
        "    if len(arr) <= 1:\n",
        "        return arr\n",
        "    mid = len(arr) // 2\n",
        "    left = merge_sort(arr[:mid])\n",
        "    right = merge_sort(arr[mid:])\n",
        "    return merge(left, right)\n",
        "def merge(left, right):\n",
        "    result = []\n",
        "    i = j = 0\n",
        "    while i < len(left) and j < len(right):\n",
        "        if left[i] < right[j]:\n",
        "            result.append(left[i])\n",
        "            i += 1\n",
        "        else:\n",
        "            result.append(right[j])\n",
        "            j += 1\n",
        "    return result + left[i:] + right[j:]\n",
        "arr = [38, 27, 43, 3, 9, 82, 10]\n",
        "print(\"Sorted array:\", merge_sort(arr))"
      ]
    }
  ]
}