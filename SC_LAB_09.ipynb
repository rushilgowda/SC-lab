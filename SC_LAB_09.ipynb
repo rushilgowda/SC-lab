{
  "nbformat": 4,
  "nbformat_minor": 0,
  "metadata": {
    "colab": {
      "provenance": []
    },
    "kernelspec": {
      "name": "python3",
      "display_name": "Python 3"
    },
    "language_info": {
      "name": "python"
    }
  },
  "cells": [
    {
      "cell_type": "code",
      "execution_count": 1,
      "metadata": {
        "colab": {
          "base_uri": "https://localhost:8080/"
        },
        "id": "IDshnj4PtNM6",
        "outputId": "cd6098f3-951e-49b6-c775-c6bdc7eae434"
      },
      "outputs": [
        {
          "output_type": "stream",
          "name": "stdout",
          "text": [
            "Weight vector using Hebb's Rule: [2. 2.]\n"
          ]
        }
      ],
      "source": [
        "import numpy as np\n",
        "X = np.array([[1, 1], [1, -1], [-1, 1], [-1, -1]])\n",
        "Y = np.array([1, -1, -1, -1])\n",
        "W = np.zeros(2)\n",
        "for i in range(len(X)):\n",
        "    W += X[i] * Y[i]\n",
        "print(\"Weight vector using Hebb's Rule:\", W)"
      ]
    }
  ]
}