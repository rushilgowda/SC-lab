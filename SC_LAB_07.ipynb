{
  "nbformat": 4,
  "nbformat_minor": 0,
  "metadata": {
    "colab": {
      "provenance": []
    },
    "kernelspec": {
      "name": "python3",
      "display_name": "Python 3"
    },
    "language_info": {
      "name": "python"
    }
  },
  "cells": [
    {
      "cell_type": "code",
      "execution_count": 1,
      "metadata": {
        "colab": {
          "base_uri": "https://localhost:8080/"
        },
        "id": "S0uvpwI3tPHv",
        "outputId": "82211f9e-8a80-4f71-e50a-28df420d8399"
      },
      "outputs": [
        {
          "output_type": "stream",
          "name": "stdout",
          "text": [
            "Best solution: -1.104469953192077\n"
          ]
        }
      ],
      "source": [
        "import numpy as np\n",
        "\n",
        "def obj(x):\n",
        "    return x**2 + 5*np.sin(x)\n",
        "\n",
        "wolves = np.random.uniform(-10, 10, 5)\n",
        "alpha = min(wolves, key=obj)\n",
        "\n",
        "for _ in range(20):\n",
        "    a = 2 - _ * (2/20)\n",
        "    for i in range(len(wolves)):\n",
        "        r1, r2 = np.random.rand(), np.random.rand()\n",
        "        A = 2 * a * r1 - a\n",
        "        C = 2 * r2\n",
        "        D = abs(C * alpha - wolves[i])\n",
        "        wolves[i] = alpha - A * D\n",
        "    alpha = min(wolves, key=obj)\n",
        "\n",
        "print(\"Best solution:\", alpha)\n"
      ]
    }
  ]
}