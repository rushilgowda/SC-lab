{
  "nbformat": 4,
  "nbformat_minor": 0,
  "metadata": {
    "colab": {
      "provenance": []
    },
    "kernelspec": {
      "name": "python3",
      "display_name": "Python 3"
    },
    "language_info": {
      "name": "python"
    }
  },
  "cells": [
    {
      "cell_type": "code",
      "execution_count": 1,
      "metadata": {
        "colab": {
          "base_uri": "https://localhost:8080/"
        },
        "id": "lciPDWFMtTSA",
        "outputId": "4b6c3af4-a6ee-457e-ff6e-aca8aede2a43"
      },
      "outputs": [
        {
          "output_type": "stream",
          "name": "stdout",
          "text": [
            "Centroid: 4.999999999999999\n",
            "HEAT\n",
            "MAINTAIN\n",
            "COOL\n"
          ]
        }
      ],
      "source": [
        "import numpy as np\n",
        "\n",
        "# Defuzzification (centroid method)\n",
        "def centroid(x, mf):\n",
        "    return np.sum(x * mf) / np.sum(mf)\n",
        "\n",
        "x = np.linspace(0, 10, 100)\n",
        "mf = np.exp(-((x - 5)**2) / 4)\n",
        "print(\"Centroid:\", centroid(x, mf))\n",
        "\n",
        "# Fuzzy controller\n",
        "def fuzzy_controller(temp):\n",
        "    return \"HEAT\" if temp < 20 else \"MAINTAIN\" if temp <= 25 else \"COOL\"\n",
        "\n",
        "print(fuzzy_controller(18))\n",
        "print(fuzzy_controller(23))\n",
        "print(fuzzy_controller(30))\n"
      ]
    }
  ]
}