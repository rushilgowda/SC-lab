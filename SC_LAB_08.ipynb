{
  "nbformat": 4,
  "nbformat_minor": 0,
  "metadata": {
    "colab": {
      "provenance": []
    },
    "kernelspec": {
      "name": "python3",
      "display_name": "Python 3"
    },
    "language_info": {
      "name": "python"
    }
  },
  "cells": [
    {
      "cell_type": "code",
      "execution_count": 1,
      "metadata": {
        "colab": {
          "base_uri": "https://localhost:8080/"
        },
        "id": "YoD15kSntOWU",
        "outputId": "b7c4c5d3-4d73-444a-8771-64e62a86c561"
      },
      "outputs": [
        {
          "output_type": "stream",
          "name": "stdout",
          "text": [
            "\n",
            "Group 0:\n",
            "    sepal length (cm)  sepal width (cm)  petal length (cm)  petal width (cm)  \\\n",
            "0                5.1               3.5                1.4               0.2   \n",
            "1                4.9               3.0                1.4               0.2   \n",
            "\n",
            "   label  \n",
            "0      0  \n",
            "1      0  \n",
            "\n",
            "Group 1:\n",
            "     sepal length (cm)  sepal width (cm)  petal length (cm)  petal width (cm)  \\\n",
            "50                7.0               3.2                4.7               1.4   \n",
            "51                6.4               3.2                4.5               1.5   \n",
            "\n",
            "    label  \n",
            "50      1  \n",
            "51      1  \n",
            "\n",
            "Group 2:\n",
            "      sepal length (cm)  sepal width (cm)  petal length (cm)  petal width (cm)  \\\n",
            "100                6.3               3.3                6.0               2.5   \n",
            "101                5.8               2.7                5.1               1.9   \n",
            "\n",
            "     label  \n",
            "100      2  \n",
            "101      2  \n"
          ]
        }
      ],
      "source": [
        "from sklearn.datasets import load_iris\n",
        "import pandas as pd\n",
        "iris = load_iris()\n",
        "df = pd.DataFrame(iris.data, columns=iris.feature_names)\n",
        "df['label'] = iris.target\n",
        "for label in df['label'].unique():\n",
        "    print(f\"\\nGroup {label}:\\n\", df[df['label'] == label].head(2))\n"
      ]
    }
  ]
}