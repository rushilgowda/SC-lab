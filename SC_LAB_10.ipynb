{
  "nbformat": 4,
  "nbformat_minor": 0,
  "metadata": {
    "colab": {
      "provenance": []
    },
    "kernelspec": {
      "name": "python3",
      "display_name": "Python 3"
    },
    "language_info": {
      "name": "python"
    }
  },
  "cells": [
    {
      "cell_type": "code",
      "execution_count": 1,
      "metadata": {
        "colab": {
          "base_uri": "https://localhost:8080/"
        },
        "id": "Img73cOOtMXC",
        "outputId": "181761e6-8a0d-4d27-b0b2-02b7090a1526"
      },
      "outputs": [
        {
          "output_type": "stream",
          "name": "stdout",
          "text": [
            "Accuracy: 0.9555555555555556\n"
          ]
        }
      ],
      "source": [
        "from sklearn.datasets import load_iris\n",
        "from sklearn.model_selection import train_test_split\n",
        "from sklearn.ensemble import VotingClassifier\n",
        "from sklearn.linear_model import LogisticRegression\n",
        "from sklearn.naive_bayes import GaussianNB\n",
        "from sklearn.tree import DecisionTreeClassifier\n",
        "\n",
        "X, y = load_iris(return_X_y=True)\n",
        "X_train, X_test, y_train, y_test = train_test_split(X, y, test_size=0.3)\n",
        "\n",
        "clf1 = LogisticRegression()\n",
        "clf2 = GaussianNB()\n",
        "clf3 = DecisionTreeClassifier()\n",
        "\n",
        "ensemble = VotingClassifier(estimators=[\n",
        "    ('lr', clf1), ('nb', clf2), ('dt', clf3)],\n",
        "    voting='hard')\n",
        "\n",
        "ensemble.fit(X_train, y_train)\n",
        "print(\"Accuracy:\", ensemble.score(X_test, y_test))\n"
      ]
    }
  ]
}