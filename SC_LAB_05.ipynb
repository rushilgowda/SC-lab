{
  "nbformat": 4,
  "nbformat_minor": 0,
  "metadata": {
    "colab": {
      "provenance": []
    },
    "kernelspec": {
      "name": "python3",
      "display_name": "Python 3"
    },
    "language_info": {
      "name": "python"
    }
  },
  "cells": [
    {
      "cell_type": "code",
      "execution_count": 1,
      "metadata": {
        "colab": {
          "base_uri": "https://localhost:8080/"
        },
        "id": "tURNY3pUtQwI",
        "outputId": "83c8b7cf-833a-4a59-edaa-40f298d6932b"
      },
      "outputs": [
        {
          "output_type": "stream",
          "name": "stdout",
          "text": [
            "Pheromone map:\n",
            " [[ 1.          1.         51.          1.          1.        ]\n",
            " [ 1.          1.          1.          1.          3.        ]\n",
            " [ 1.          2.38888889  1.          1.          1.        ]\n",
            " [ 1.          1.          1.          1.          1.        ]\n",
            " [ 1.          1.          1.          2.02040816  1.        ]]\n"
          ]
        }
      ],
      "source": [
        "import numpy as np\n",
        "cities = 5\n",
        "pheromone = np.ones((cities, cities))\n",
        "distance = np.random.randint(1, 100, (cities, cities)).astype(float)\n",
        "np.fill_diagonal(distance, np.inf)\n",
        "for _ in range(10):\n",
        "    for _ in range(5):\n",
        "        path = [0]\n",
        "        while len(path) < cities:\n",
        "            current = path[-1]\n",
        "            score = pheromone[current] / distance[current]\n",
        "            score[path] = 0\n",
        "            next_city = np.argmax(score)\n",
        "            path.append(next_city)\n",
        "        for i in range(len(path) - 1):\n",
        "            a, b = path[i], path[i + 1]\n",
        "            pheromone[a][b] += 1 / distance[a][b]\n",
        "print(\"Pheromone map:\\n\", pheromone)\n"
      ]
    }
  ]
}