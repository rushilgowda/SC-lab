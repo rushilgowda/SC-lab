{
  "nbformat": 4,
  "nbformat_minor": 0,
  "metadata": {
    "colab": {
      "provenance": []
    },
    "kernelspec": {
      "name": "python3",
      "display_name": "Python 3"
    },
    "language_info": {
      "name": "python"
    }
  },
  "cells": [
    {
      "cell_type": "code",
      "execution_count": null,
      "metadata": {
        "colab": {
          "base_uri": "https://localhost:8080/"
        },
        "id": "XLZ34ZcetP1u",
        "outputId": "08c01c3e-3293-4737-d9e3-96797fdf0ef0"
      },
      "outputs": [
        {
          "output_type": "stream",
          "name": "stdout",
          "text": [
            "Best solution found: -2.0000000143017274\n"
          ]
        }
      ],
      "source": [
        "import numpy as np\n",
        "def f(x):\n",
        "    return x**2 + 4*x + 4\n",
        "pos = np.random.uniform(-10, 10, 10)\n",
        "vel = np.zeros_like(pos)\n",
        "pbest = pos.copy()\n",
        "gbest = pos[np.argmin(f(pos))]\n",
        "for _ in range(50):\n",
        "    r1, r2 = np.random.rand(), np.random.rand()\n",
        "    vel = 0.5*vel + 0.8*r1*(pbest - pos) + 0.9*r2*(gbest - pos)\n",
        "    pos += vel\n",
        "    pbest = np.where(f(pos) < f(pbest), pos, pbest)\n",
        "    gbest = pbest[np.argmin(f(pbest))]\n",
        "\n",
        "print(\"Best solution found:\", gbest)\n"
      ]
    }
  ]
}